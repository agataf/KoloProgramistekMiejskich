{
 "cells": [
  {
   "cell_type": "code",
   "execution_count": 1,
   "metadata": {
    "collapsed": true
   },
   "outputs": [],
   "source": [
    "import math"
   ]
  },
  {
   "cell_type": "markdown",
   "metadata": {},
   "source": [
    "Potęgi (bez używania `**`)"
   ]
  },
  {
   "cell_type": "code",
   "execution_count": 2,
   "metadata": {
    "collapsed": false
   },
   "outputs": [
    {
     "data": {
      "text/plain": [
       "8.0"
      ]
     },
     "execution_count": 2,
     "metadata": {},
     "output_type": "execute_result"
    }
   ],
   "source": [
    "math.pow(2,3)"
   ]
  },
  {
   "cell_type": "code",
   "execution_count": 3,
   "metadata": {
    "collapsed": false
   },
   "outputs": [
    {
     "data": {
      "text/plain": [
       "1.2676506002282294e+30"
      ]
     },
     "execution_count": 3,
     "metadata": {},
     "output_type": "execute_result"
    }
   ],
   "source": [
    "math.pow(2,100)"
   ]
  },
  {
   "cell_type": "markdown",
   "metadata": {},
   "source": [
    "Faktorial (`7! = 7 * 6 * 5 * ... * 2 * 1`)"
   ]
  },
  {
   "cell_type": "code",
   "execution_count": 4,
   "metadata": {
    "collapsed": false
   },
   "outputs": [
    {
     "data": {
      "text/plain": [
       "5040"
      ]
     },
     "execution_count": 4,
     "metadata": {},
     "output_type": "execute_result"
    }
   ],
   "source": [
    "math.factorial(7)"
   ]
  },
  {
   "cell_type": "markdown",
   "metadata": {},
   "source": [
    "Liczba pi"
   ]
  },
  {
   "cell_type": "code",
   "execution_count": 5,
   "metadata": {
    "collapsed": false
   },
   "outputs": [
    {
     "data": {
      "text/plain": [
       "3.141592653589793"
      ]
     },
     "execution_count": 5,
     "metadata": {},
     "output_type": "execute_result"
    }
   ],
   "source": [
    "math.pi"
   ]
  },
  {
   "cell_type": "code",
   "execution_count": 6,
   "metadata": {
    "collapsed": false
   },
   "outputs": [
    {
     "name": "stdout",
     "output_type": "stream",
     "text": [
      "50.2654824574\n"
     ]
    }
   ],
   "source": [
    "a = math.pi\n",
    "r = 4\n",
    "pole = a * math.pow(r,2)\n",
    "print(pole)"
   ]
  },
  {
   "cell_type": "markdown",
   "metadata": {},
   "source": [
    "Liczby losowe"
   ]
  },
  {
   "cell_type": "code",
   "execution_count": 7,
   "metadata": {
    "collapsed": true
   },
   "outputs": [],
   "source": [
    "import random as ra"
   ]
  },
  {
   "cell_type": "code",
   "execution_count": 8,
   "metadata": {
    "collapsed": false
   },
   "outputs": [
    {
     "data": {
      "text/plain": [
       "1"
      ]
     },
     "execution_count": 8,
     "metadata": {},
     "output_type": "execute_result"
    }
   ],
   "source": [
    "ra.randint(1,9)"
   ]
  },
  {
   "cell_type": "code",
   "execution_count": 9,
   "metadata": {
    "collapsed": false
   },
   "outputs": [
    {
     "data": {
      "text/plain": [
       "0.3527853944653877"
      ]
     },
     "execution_count": 9,
     "metadata": {},
     "output_type": "execute_result"
    }
   ],
   "source": [
    "ra.random()"
   ]
  },
  {
   "cell_type": "markdown",
   "metadata": {},
   "source": [
    "Generowanie 10 liczb losowych (od 0 do 1)"
   ]
  },
  {
   "cell_type": "code",
   "execution_count": 10,
   "metadata": {
    "collapsed": false
   },
   "outputs": [
    {
     "name": "stdout",
     "output_type": "stream",
     "text": [
      "0.443477239373\n",
      "0.251755330335\n",
      "0.675666258594\n",
      "0.00853542825873\n",
      "0.977151542747\n",
      "0.00111643057775\n",
      "0.0213807592926\n",
      "0.468734324302\n",
      "0.14800915533\n",
      "0.476901490843\n"
     ]
    }
   ],
   "source": [
    "for i in range(10):\n",
    "    print(ra.random())"
   ]
  },
  {
   "cell_type": "markdown",
   "metadata": {},
   "source": [
    "Generowanie list 100 liczb całkowitych od 1 do 99"
   ]
  },
  {
   "cell_type": "code",
   "execution_count": 11,
   "metadata": {
    "collapsed": false
   },
   "outputs": [],
   "source": [
    "lista = []\n",
    "for i in range(100):\n",
    "    lista.append(ra.randint(1,100))"
   ]
  },
  {
   "cell_type": "code",
   "execution_count": 12,
   "metadata": {
    "collapsed": false
   },
   "outputs": [
    {
     "name": "stdout",
     "output_type": "stream",
     "text": [
      "[72, 59, 64, 78, 62, 9, 39, 39, 82, 13, 85, 36, 73, 15, 23, 55, 22, 48, 32, 81, 60, 65, 37, 12, 71, 20, 17, 58, 57, 18, 81, 46, 95, 61, 39, 37, 19, 89, 81, 74, 17, 17, 14, 96, 43, 73, 29, 41, 83, 87, 28, 45, 18, 87, 59, 51, 21, 90, 44, 44, 72, 6, 53, 35, 48, 42, 4, 58, 73, 47, 9, 3, 88, 57, 45, 98, 19, 29, 46, 10, 54, 53, 9, 29, 34, 41, 57, 86, 22, 40, 89, 19, 67, 20, 16, 47, 45, 74, 61, 75]\n"
     ]
    }
   ],
   "source": [
    "print(lista)"
   ]
  },
  {
   "cell_type": "markdown",
   "metadata": {},
   "source": [
    "Generowanie list 100 ułamków losowych od 0 do 1"
   ]
  },
  {
   "cell_type": "code",
   "execution_count": 13,
   "metadata": {
    "collapsed": false
   },
   "outputs": [],
   "source": [
    "# sposób 1 - pętla\n",
    "lista = []\n",
    "for i in range(100):\n",
    "    lista.append(ra.random())\n",
    "    "
   ]
  },
  {
   "cell_type": "code",
   "execution_count": 14,
   "metadata": {
    "collapsed": false
   },
   "outputs": [
    {
     "name": "stdout",
     "output_type": "stream",
     "text": [
      "[0.7868070177252685, 0.5886968490475556, 0.5792246675910486, 0.3301917704506193, 0.090624184881537, 0.44070725091565865, 0.9930447112583441, 0.678412651371183, 0.18953739167645423, 0.4238766940532872, 0.8872829497636502, 0.1913074879511938, 0.6851711736617161, 0.1624869499380892, 0.2207940142398791, 0.26310285310645454, 0.7991016831035916, 0.681846496814649, 0.13201898143204882, 0.6483969912549099, 0.3832348485661994, 0.6445960850818807, 0.5897641344894745, 0.4991004808311691, 0.8390902003384832, 0.5495138234693303, 0.6338150160056962, 0.5936295329092515, 0.901080041503825, 0.5162636234350281, 0.48789840115539873, 0.34371843803183544, 0.9182653161234218, 0.988025719235733, 0.9741997872079565, 0.339531028789699, 0.464545875617975, 0.46025477379745217, 0.4917260536749192, 0.8501378491472645, 0.7024230561913807, 0.02609300879679577, 0.8952440964736414, 0.29049830187027725, 0.9533738392327861, 0.8217309578913164, 0.8237380254343803, 0.4663190251593865, 0.5812318850533815, 0.22013310455497592, 0.06679329753977992, 0.416206747461498, 0.9334229254815773, 0.6441364938771196, 0.6940908096839691, 0.06778487128900557, 0.2194343832941782, 0.40460945062572173, 0.9966755297293289, 0.9136718889189964, 0.7043067031084825, 0.9156361823494054, 0.31020194649584143, 0.5964954311210807, 0.3040936571947591, 0.8498897918432768, 0.32647627358866604, 0.4838178364170136, 0.973453662378901, 0.5873861575977664, 0.7174119539960505, 0.291748436908832, 0.4692612969736747, 0.38230517215971505, 0.5230571240292243, 0.8242584716739985, 0.8184940917748507, 0.2574595339032405, 0.4634641734457713, 0.14214436619270854, 0.25899173951916576, 0.3826064867669865, 0.6949102131693253, 0.2541314898678231, 0.04192649481518074, 0.98060951793791, 0.8331620224941515, 0.22267478718767852, 0.13395667670684153, 0.557905365686173, 0.6244420958441109, 0.24952607515107028, 0.06626579034060143, 0.06748736893755991, 0.9762489942268952, 0.06466269962104487, 0.6795367985568445, 0.7692291526136027, 0.1424036289573869, 0.2108415178414822]\n"
     ]
    }
   ],
   "source": [
    "print(lista)"
   ]
  },
  {
   "cell_type": "code",
   "execution_count": 15,
   "metadata": {
    "collapsed": true
   },
   "outputs": [],
   "source": [
    "# sposób 2 - list comprehension (wykonuje to samo, ale szybciej)\n",
    "x = [ra.random() for i in range(100)]\n",
    "y = [ra.random() for i in range(100)]"
   ]
  },
  {
   "cell_type": "markdown",
   "metadata": {},
   "source": [
    "Rysowanie wykresów"
   ]
  },
  {
   "cell_type": "code",
   "execution_count": 16,
   "metadata": {
    "collapsed": true
   },
   "outputs": [],
   "source": [
    "import matplotlib.pyplot as plt"
   ]
  },
  {
   "cell_type": "code",
   "execution_count": 17,
   "metadata": {
    "collapsed": false
   },
   "outputs": [
    {
     "data": {
      "image/png": "[encoded data removed]",
      "text/plain": [
       "<matplotlib.figure.Figure at 0x1127b3b10>"
      ]
     },
     "metadata": {},
     "output_type": "display_data"
    }
   ],
   "source": [
    "a = [1, 5, 6, 9]\n",
    "b = [0, 1, 2, 3]\n",
    "plt.scatter(a,b)\n",
    "plt.show()"
   ]
  },
  {
   "cell_type": "code",
   "execution_count": 18,
   "metadata": {
    "collapsed": false
   },
   "outputs": [
    {
     "name": "stdout",
     "output_type": "stream",
     "text": [
      "[0.6240494167357171, 0.8817658927248178, 0.9132581784323858, 0.23486653546731395, 0.6959967500940427, 0.18552309729585292, 0.5177767841889902, 0.7188971953342438, 0.09270127267599737, 0.7435983845430761, 0.9682049621406612, 0.8851875724067552, 0.902659399746756, 0.43833446852121594, 0.07657191397244623, 0.1308239526533329, 0.46546453059227966, 0.43587533706198234, 0.8831979861123813, 0.9308595383176811, 0.9992943787372052, 0.10141722066559067, 0.2158578984074948, 0.46338360857943606, 0.7409842478849644, 0.39147536481314427, 0.057228183282631906, 0.5789004714695973, 0.6121261837471124, 0.03701563324851476, 0.33835209590597803, 0.8108728762502893, 0.7917188650247291, 0.7780584495095392, 0.5467233213528754, 0.962558884694978, 0.12105559475858718, 0.16328417784656513, 0.9886024916840886, 0.6718612942823309, 0.5776000877785142, 0.8643075124643671, 0.6228978020179499, 0.639452699841452, 0.8284009606562136, 0.783363939881525, 0.08142888678024307, 0.5052503513990872, 0.9991902555506248, 0.10214574414804634, 0.7782335919496807, 0.2689210238320353, 0.6155271781991966, 0.896369822202606, 0.3494792832430569, 0.16483374242657378, 0.6361799474270828, 0.7953904441954105, 0.1900340844737617, 0.22773486774287566, 0.5876441324137378, 0.9879122171364658, 0.7482637047572331, 0.08897941706841439, 0.9581575843976589, 0.2926286706134408, 0.5754963227953389, 0.6593102556784525, 0.8153302580200574, 0.8589188590286578, 0.5759609996928682, 0.7904205152967935, 0.1122296590721178, 0.352119772362231, 0.5890980682751609, 0.021879662759650587, 0.026228889934388322, 0.9388237002751472, 0.44542321272033836, 0.37663291640031493, 0.6335292338359578, 0.7103468590573927, 0.02104999377048833, 0.09583426709075815, 0.2987554986419194, 0.9418984118508852, 0.6325354415606559, 0.45407435099719595, 0.3878687857417511, 0.10267102948003948, 0.028527967019260303, 0.5292304447183818, 0.6969180400392939, 0.18366905994153115, 0.2012947027424118, 0.2692764390479321, 0.3205047789902191, 0.5390403124976685, 0.6231386082636098, 0.27612517018494953]\n"
     ]
    }
   ],
   "source": [
    "print(x)"
   ]
  },
  {
   "cell_type": "code",
   "execution_count": 19,
   "metadata": {
    "collapsed": false
   },
   "outputs": [
    {
     "data": {
      "image/png": "[encoded data removed]",
      "text/plain": [
       "<matplotlib.figure.Figure at 0x112999fd0>"
      ]
     },
     "metadata": {},
     "output_type": "display_data"
    }
   ],
   "source": [
    "plt.scatter(x,y)\n",
    "plt.show()\n",
    "plt.close()"
   ]
  },
  {
   "cell_type": "code",
   "execution_count": 20,
   "metadata": {
    "collapsed": false
   },
   "outputs": [
    {
     "data": {
      "image/png": "[encoded data removed]",
      "text/plain": [
       "<matplotlib.figure.Figure at 0x112b28b90>"
      ]
     },
     "metadata": {},
     "output_type": "display_data"
    }
   ],
   "source": [
    "x1 = list(range(100))\n",
    "y1 = list(range(100,200))\n",
    "plt.scatter(x1,y1)\n",
    "plt.show()\n",
    "plt.close()"
   ]
  }
 ],
 "metadata": {
  "anaconda-cloud": {},
  "kernelspec": {
   "display_name": "Python [python27]",
   "language": "python",
   "name": "Python [python27]"
  },
  "language_info": {
   "codemirror_mode": {
    "name": "ipython",
    "version": 2
   },
   "file_extension": ".py",
   "mimetype": "text/x-python",
   "name": "python",
   "nbconvert_exporter": "python",
   "pygments_lexer": "ipython2",
   "version": "2.7.13"
  }
 },
 "nbformat": 4,
 "nbformat_minor": 0
}
