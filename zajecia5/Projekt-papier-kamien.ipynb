{
 "cells": [
  {
   "cell_type": "markdown",
   "metadata": {},
   "source": [
    "# Papier kamień nożyce\n",
    "Stwórz program, który aż do momentu wyłączenia gra z użytkownikiem w papier kamień nożyce. Za każdym razem, przed poproszeniem użytkownika o wybranie papieru/kamienia/nożyc, użyj biblioteki `random` do wygenerowania papieru/kamienia/nożyc (podpowiedź: w jaki sposób możesz przełożyć te trzy opcje na trzy różne liczby?)\n",
    "https://pl.python.org/docs/lib/module-random.html\n",
    "\n",
    "Zasady:\n",
    "- kamień > nożyce\n",
    "- papier > kamień\n",
    "- nożyce > papier\n",
    "\n",
    "Podpowiedź: będzie tu dużo zdań warunkowych. Najłatwiej będzie stworzyć trzy funkcje do rozważenia tych opcji:"
   ]
  },
  {
   "cell_type": "code",
   "execution_count": null,
   "metadata": {
    "collapsed": true
   },
   "outputs": [],
   "source": [
    "\n",
    "# jeśli użytkownik poda kamień, a my wygenerujemy zmienną wygenerowane,\n",
    "# kto wygra?\n",
    "def jesli_kamien(wygenerowane):\n",
    "    if wygenerowane == \"papier\":\n",
    "        wynik =\n",
    "    elif wygenerowane == \"kamień\":\n",
    "        wynik = \n",
    "    elif wygenerowane == \"nożyce\":\n",
    "        wynik = \n",
    "    return wynik\n",
    "    \n",
    "def jesli_papier(wygenerowane):\n",
    "    return wynik\n",
    "    \n",
    "def jesli_nozyce(wygenerowane):\n",
    "    return wynik"
   ]
  },
  {
   "cell_type": "markdown",
   "metadata": {},
   "source": [
    "Jak losowo wygenerować jedną z możliwości (papier/kamień/nożyce) używając biblioteki `random`?"
   ]
  },
  {
   "cell_type": "code",
   "execution_count": null,
   "metadata": {
    "collapsed": true
   },
   "outputs": [],
   "source": [
    "import random\n",
    "\n",
    "def wygeneruj_moje():\n",
    "    liczba = random.random()\n",
    "    if liczba < ...:\n",
    "        return \"papier\"\n",
    "    elif liczba < ...:\n",
    "        return \"kamień\"\n",
    "    else:\n",
    "        return \"nożyce\""
   ]
  },
  {
   "cell_type": "markdown",
   "metadata": {},
   "source": [
    "Stwórz pętlę:"
   ]
  },
  {
   "cell_type": "code",
   "execution_count": null,
   "metadata": {
    "collapsed": true
   },
   "outputs": [],
   "source": [
    "while True:\n",
    "    \n",
    "    wygenerowane = wygeneruj_moje()\n",
    "    \n",
    "    uzytkownik = input(\"Wybierz a - kamień, b - papier lub c - nożyce\")\n",
    "    \n",
    "    if uzytkownik == \"a\":\n",
    "        wynik = jesli_kamien(wygenerowane)\n",
    "        \n",
    "    elif uzytkownik == \"b\":\n",
    "        wynik = jesli_papier(wygenerowane)\n",
    "        \n",
    "    elif uzytkownik == \"c\":\n",
    "        wynik = jesli_nożyce(wygenerowane)\n",
    "    else:\n",
    "        # powiedz uzytkownikowi, ze odpowiedz byla niepoprawna\n",
    "        continue # przejdz do kolejnej iteracji petli\n",
    "    # podaj informację, czy użytkownik wygrał czy przegrał\n",
    "    \n",
    "\n",
    "    \n",
    "    "
   ]
  }
 ],
 "metadata": {
  "anaconda-cloud": {},
  "kernelspec": {
   "display_name": "Python [Root]",
   "language": "python",
   "name": "Python [Root]"
  },
  "language_info": {
   "codemirror_mode": {
    "name": "ipython",
    "version": 3
   },
   "file_extension": ".py",
   "mimetype": "text/x-python",
   "name": "python",
   "nbconvert_exporter": "python",
   "pygments_lexer": "ipython3",
   "version": "3.5.2"
  }
 },
 "nbformat": 4,
 "nbformat_minor": 0
}
