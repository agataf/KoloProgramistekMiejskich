{
 "cells": [
  {
   "cell_type": "markdown",
   "metadata": {},
   "source": [
    "## Projekt 1\n",
    "\n",
    "Napisz program - quiz z geografii - który zada użytkownikowi po kolei każde z 8 pytań wraz z możliwymi odpowiedziami, przyjmie odpowiedź (literę a, b, c lub d), a na końcu poda liczbę poprawnych odpowiedzi.\n",
    "\n",
    "Pytania:\n",
    "1. Jakie miasto obejmuje swoimi granicami ciesninę Bosfor?\n",
    "**a. Stambuł**\n",
    "b. Odessa\n",
    "c. Kair\n",
    "d. Madras\n",
    "\n",
    "2. Wyspy Seszele znajduja się na oceanie...? \n",
    "a. Spokojnym\n",
    "b. Lodowatym\n",
    "**c. Indyjskim**\n",
    "d. Atlantyckim\n",
    "\n",
    "3. Jak obecnie nazywa się wyspa, niegdyś zwana Cejlonem? \n",
    "a. Kuba\n",
    "b. Tahiti\n",
    "c. Wyspa Wielkanocna\n",
    "**d. Sri lanka**\n",
    "\n",
    "4. Na terytorium jakiego państwa znajduje się kraina o nazwie Kapadocja?\n",
    "**a. Turcji**\n",
    "b. Iranu\n",
    "c. Iraku\n",
    "d. Armenii\n",
    "\n",
    "5. Gdzie znajdują się Góry Kaledońskie? \n",
    "a. W Szwecji\n",
    "**b. na Szetlandach**\n",
    "c. W Szkocji\n",
    "d. W Szwajcarii\n",
    "\n",
    "6. Które z wymienionych miast nie lezy w Hiszpanii?\n",
    "a. Toledo\n",
    "**b. Braga**\n",
    "c. Kordoba\n",
    "d. Bilbao\n",
    "\n",
    "7. Jakie miasto jest stolicą Australii?\n",
    "a. Sydney\n",
    "**b. Canberra**\n",
    "c. Port Darwin\n",
    "d. Melbourne\n",
    "\n",
    "8. Które polskie miasto leży na dwóch wyspach?\n",
    "a. Szczecin\n",
    "b. Kołobrzeg\n",
    "c. Słupsk\n",
    "**d. Świnoujście**\n",
    "\n",
    "\n",
    "(Źródło quizu: https://www.memorizer.pl/nauka/3772/geografia---test-wyboru/)"
   ]
  },
  {
   "cell_type": "code",
   "execution_count": null,
   "metadata": {
    "collapsed": true
   },
   "outputs": [],
   "source": [
    "# Stwórz listę pytań, która będzie zawierać 10 stringów, każdy z treścią kolejnego pytania\n",
    "\n",
    "pytania = []\n",
    "\n",
    "# Stwórz listę odpowiedzi, która będzie zawierać 10 list, \n",
    "# z których każda będzie zawierać 3 stringi odpowiadające danej odpowiedzi\n",
    "\n",
    "odpowiedzi = [[],[],[],[],[],[],[],[],[],[]]\n",
    "\n",
    "# Stwórz listę poprawnych odpowiedzi, która zawiera 10 stringów, każdy z literą oznaczającą właściwą odpowiedź\n",
    "poprawne = []"
   ]
  },
  {
   "cell_type": "code",
   "execution_count": null,
   "metadata": {
    "collapsed": true
   },
   "outputs": [],
   "source": [
    "# w trakcie całego programu będziemy sumować punkty. Zainicjalizujmy więc zmienną punkty wartością 0\n",
    "# - będziemy dodawać do niej punkty, gdy użytkownik poda poprawną odpowiedź\n",
    "punkty = 0"
   ]
  },
  {
   "cell_type": "code",
   "execution_count": null,
   "metadata": {
    "collapsed": true
   },
   "outputs": [],
   "source": [
    "# Stwórz na razie program, który wydrukuje możliwe odpowiedzi i sprawdzi odpowiedź użytkownika\n",
    "# dla tylko jednego pytania.\n",
    "\n",
    "# wybierz pierwszy indeks pytań i = 0, i stwórz pętlę, która drukuje każdą z możliwych odpowiedzi w nowej linijce\n",
    "i = 0\n",
    "for j in range(3):\n",
    "    print(odpowiedzi[][])\n",
    "    \n",
    "# podpowiedź: by wybrać indeks listy w liście, użyj składni odpowiedzi[indeks_zewnetrzny][indeks_wewnetrzny]"
   ]
  },
  {
   "cell_type": "code",
   "execution_count": null,
   "metadata": {
    "collapsed": true
   },
   "outputs": [],
   "source": [
    "# dodaj do powyższego kodu linię z inputem, proszącą o odpowiedź\n",
    "# oraz zdanie warunkowe, które sprawdzi, czy podana odpowiedź jest poprawna\n",
    "# i jeśli jest poprawna, doda punkt\n",
    "\n",
    "i = 0\n",
    "for j in range(3):\n",
    "    print(odpowiedzi[][])\n",
    "    odp = input(\"\")\n",
    "    if odp == ...:\n",
    "        "
   ]
  },
  {
   "cell_type": "markdown",
   "metadata": {},
   "source": [
    "przetestuj swój program, zmieniając wartość zmiennej `i`"
   ]
  },
  {
   "cell_type": "code",
   "execution_count": null,
   "metadata": {
    "collapsed": true
   },
   "outputs": [],
   "source": [
    "# dodaj pętlę \"wokół\" napisanego kodu - tak, aby był powtarzany dla wszystkich pytań\n",
    "for i in range(8):\n",
    "    for j in range(3):\n",
    "        ..."
   ]
  },
  {
   "cell_type": "markdown",
   "metadata": {},
   "source": [
    "dodaj funkcję print drukującą liczbę otrzymanych punktów i przetestuj swój program"
   ]
  },
  {
   "cell_type": "code",
   "execution_count": null,
   "metadata": {
    "collapsed": true
   },
   "outputs": [],
   "source": [
    "# użyj funkcji len() zamiast używać liczb 3 i 8 w pętlach for \n",
    "for i in range(len()):\n",
    "    for j in range(len()):"
   ]
  }
 ],
 "metadata": {
  "anaconda-cloud": {},
  "kernelspec": {
   "display_name": "Python [Root]",
   "language": "python",
   "name": "Python [Root]"
  },
  "language_info": {
   "codemirror_mode": {
    "name": "ipython",
    "version": 3
   },
   "file_extension": ".py",
   "mimetype": "text/x-python",
   "name": "python",
   "nbconvert_exporter": "python",
   "pygments_lexer": "ipython3",
   "version": "3.5.2"
  }
 },
 "nbformat": 4,
 "nbformat_minor": 0
}
