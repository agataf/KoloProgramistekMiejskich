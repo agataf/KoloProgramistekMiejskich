{
 "cells": [
  {
   "cell_type": "markdown",
   "metadata": {},
   "source": [
    "# Powtórka funkcji\n",
    "Tak wygląda przykładowa funkcja mnożąca podaną liczbę przez 5\n",
    "```python\n",
    "def moja_funkcja(liczba): # przyjmij jeden argument\n",
    "  wynik = liczba * 5\n",
    "  return wynik # zwróć tą zmienną jako wynik funkcji\n",
    "```\n",
    "\n",
    "Możemy ją wywołać używając jej nazwy:\n",
    "```python\n",
    "a = 7\n",
    "b = moja_funkcja(a)\n",
    "print(b)\n",
    "> 35\n",
    "```\n",
    "W tej funkcji \"liczba\" to argument, przyjmowany przez funkcję. Gdy wywołując funkcję, podajemy w nawiasie jakąś wartość (lub zmienną), wewnątrz funkcji przyjmuje ona nazwę wpisaną w definicji (w tym przypadku `a` przyjmuje nazwę `liczba` _ale tylko wewnątrz funkcji_).\n",
    "\n",
    "W ostatniej linijce funkcji (`return wynik`), funkcja zwraca wartość, która zapisana zostanie w `b`, gdy ją wywołamy."
   ]
  },
  {
   "cell_type": "markdown",
   "metadata": {},
   "source": [
    "Zadania 5-9 z https://github.com/agataf/KoloProgramistekMiejskich/blob/master/zajecia3/zadania.md"
   ]
  },
  {
   "cell_type": "markdown",
   "metadata": {},
   "source": [
    "### 5. Imię\n",
    "Stwórz funkcję, która pyta przyjmuje jeden argument - imię użytkowniczki, a następnie ją wita\n",
    "```\n",
    "funkcja_witania(\"Ania\")\n",
    "> Cześć Ania\n",
    "```"
   ]
  },
  {
   "cell_type": "code",
   "execution_count": null,
   "metadata": {
    "collapsed": true
   },
   "outputs": [],
   "source": []
  },
  {
   "cell_type": "markdown",
   "metadata": {},
   "source": [
    "### 6. Choinka\n",
    "Stwórz funkcję, która drukuje choinkę\n",
    "```\n",
    "choinka(3)\n",
    ">\n",
    "*\n",
    "- *\n",
    "- - *\n",
    "```"
   ]
  },
  {
   "cell_type": "code",
   "execution_count": null,
   "metadata": {
    "collapsed": true
   },
   "outputs": [],
   "source": []
  },
  {
   "cell_type": "markdown",
   "metadata": {},
   "source": [
    "### 7. Rewers\n",
    "Stwórz funkcję, która przyjmuje listę i zwraca jej odwrotność (reverse)\n",
    "```\n",
    "naodwrot([4,5,6,7])\n",
    "> [7,6,5,4]\n",
    "```"
   ]
  },
  {
   "cell_type": "code",
   "execution_count": null,
   "metadata": {
    "collapsed": true
   },
   "outputs": [],
   "source": []
  },
  {
   "cell_type": "markdown",
   "metadata": {},
   "source": [
    "### 8. Suma-mnożenie w funkcji\n",
    "Stwórz funkcję, która wykonuje działanie podane w zadaniu 4, ale dla dowolnej listy\n",
    "```\n",
    "dodaj_mnoz([1,2,3,4])\n",
    "> 30\n",
    "```"
   ]
  },
  {
   "cell_type": "code",
   "execution_count": null,
   "metadata": {
    "collapsed": true
   },
   "outputs": [],
   "source": []
  },
  {
   "cell_type": "markdown",
   "metadata": {},
   "source": [
    "### (*) 9. Choinka w stringu\n",
    "Stwórz funkcję `choinka` która nie drukuje choinki, tylko zwraca string w którym jest choinka\n",
    "```\n",
    "narysowane = choinka(5)\n",
    "print(narysowane)\n",
    ">\n",
    ">\n",
    "*\n",
    "- *\n",
    "- - *\n",
    "- - - *\n",
    "- - - - *\n",
    "```"
   ]
  },
  {
   "cell_type": "code",
   "execution_count": null,
   "metadata": {
    "collapsed": true
   },
   "outputs": [],
   "source": []
  }
 ],
 "metadata": {
  "anaconda-cloud": {},
  "kernelspec": {
   "display_name": "Python [Root]",
   "language": "python",
   "name": "Python [Root]"
  },
  "language_info": {
   "codemirror_mode": {
    "name": "ipython",
    "version": 3
   },
   "file_extension": ".py",
   "mimetype": "text/x-python",
   "name": "python",
   "nbconvert_exporter": "python",
   "pygments_lexer": "ipython3",
   "version": "3.5.2"
  }
 },
 "nbformat": 4,
 "nbformat_minor": 0
}
