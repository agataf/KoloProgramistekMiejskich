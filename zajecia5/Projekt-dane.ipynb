{
 "cells": [
  {
   "cell_type": "code",
   "execution_count": 1,
   "metadata": {
    "collapsed": true
   },
   "outputs": [],
   "source": [
    "import sklearn.datasets\n",
    "import pandas as pd\n",
    "import numpy as np\n",
    "import matplotlib.pyplot as plt"
   ]
  },
  {
   "cell_type": "markdown",
   "metadata": {},
   "source": [
    "Załaduj swój plik używając `pd.read_csv()`"
   ]
  },
  {
   "cell_type": "code",
   "execution_count": null,
   "metadata": {
    "collapsed": true
   },
   "outputs": [],
   "source": [
    "tabela = pd.read_csv()"
   ]
  },
  {
   "cell_type": "markdown",
   "metadata": {},
   "source": [
    "Wydrukuj go. Sprawdź, że załadował się poprawnie.\n",
    "- czasami pliki CSV są zapisywane ze średnikiem zamiast przecinka oddzielającego kolejne pola. Jeśli taki jest twój plik, możesz załadować go poprawnie używając opcji `delimiter` (zobacz dokumentację tu: https://pandas.pydata.org/pandas-docs/stable/reference/api/pandas.read_csv.html)\n",
    "```\n",
    "tabela = pd.read_csv(\"nazwa_pliku\", delimiter = \";\")\n",
    "```\n",
    "\n",
    "- typ danych - czasem pliki zapisywane z excela mają format nierozpoznawany przez pandas. Upewnij się, że używasz poprawnego formatu (ascii)"
   ]
  },
  {
   "cell_type": "code",
   "execution_count": null,
   "metadata": {
    "collapsed": false
   },
   "outputs": [],
   "source": []
  },
  {
   "cell_type": "markdown",
   "metadata": {},
   "source": [
    "- Sprawdź liczbę rzędów i kolumn (`shape`)\n",
    "- Wyświetl kilka pierwszych elementów używając funkcji `head()`\n",
    "- Sprawdź, czy nazwy kolumn są odpowiednio przypisane "
   ]
  },
  {
   "cell_type": "code",
   "execution_count": null,
   "metadata": {
    "collapsed": true
   },
   "outputs": [],
   "source": []
  },
  {
   "cell_type": "markdown",
   "metadata": {},
   "source": [
    "Zobacz podsumowanie wartości w tabeli, używając funkcji \"describe\"\n",
    "```\n",
    "tabela.describe()\n",
    "```"
   ]
  },
  {
   "cell_type": "code",
   "execution_count": null,
   "metadata": {
    "collapsed": true
   },
   "outputs": [],
   "source": []
  },
  {
   "cell_type": "markdown",
   "metadata": {},
   "source": [
    "Wybierz od 2 do 5 zmiennych, którymi będziesz się dzisiaj zajmować, i stwórz nową tabelę zawierającą jedynie te zmienne:"
   ]
  },
  {
   "cell_type": "code",
   "execution_count": null,
   "metadata": {
    "collapsed": false
   },
   "outputs": [],
   "source": [
    "nowa_tabela = tabela[[\"nazwa kolumny1\", \"nazwa kolumny2\", \"nazwa kolumny3\"]]"
   ]
  },
  {
   "cell_type": "markdown",
   "metadata": {},
   "source": [
    "Dla poćwiczenia - spróbuj wybrać rzędy, gdzie znajdują się konkretne wartości "
   ]
  },
  {
   "cell_type": "code",
   "execution_count": null,
   "metadata": {
    "collapsed": true
   },
   "outputs": [],
   "source": [
    "wybrane_rzedy = nowa_tabela[nowa_tabela[\"nazwa kolumny1\"] == wartosc]"
   ]
  },
  {
   "cell_type": "markdown",
   "metadata": {},
   "source": [
    "Sprawdź typ danych znajdujący się w każdej kolumnie"
   ]
  },
  {
   "cell_type": "code",
   "execution_count": null,
   "metadata": {
    "collapsed": true
   },
   "outputs": [],
   "source": [
    "nowa_tabela[\"nazwa kolumny1\"].dtype"
   ]
  },
  {
   "cell_type": "markdown",
   "metadata": {},
   "source": [
    "Jeśli chcesz zmienić typ danych (np. są stringami, a chcesz używać ich jako liczb), możesz użyć fukcji `astype`:\n",
    "```\n",
    "nowa_tabela[\"nazwa kolumny1\"] = nowa_tabela[\"nazwa kolumny1\"].astype(\"float\")\n",
    "```"
   ]
  },
  {
   "cell_type": "code",
   "execution_count": null,
   "metadata": {
    "collapsed": true
   },
   "outputs": [],
   "source": []
  },
  {
   "cell_type": "markdown",
   "metadata": {},
   "source": [
    "Wybierz 5 _typów_ wykresów, które zamierzasz narysować. Może przydać ci się galeria matplotlib:\n",
    "https://matplotlib.org/gallery.html. Znajdź definicje funkcji dla każdego z typu wykresów i stwórz je dla twoich danych.\n",
    "\n",
    "Zanim zamnkiesz każdy wykres, zapisz go używając\n",
    "```\n",
    "plt.show()\n",
    "plt.savefig('nazwa_wykresu')\n",
    "plt.close()\n",
    "```\n"
   ]
  },
  {
   "cell_type": "code",
   "execution_count": null,
   "metadata": {
    "collapsed": false
   },
   "outputs": [],
   "source": []
  },
  {
   "cell_type": "markdown",
   "metadata": {},
   "source": []
  },
  {
   "cell_type": "code",
   "execution_count": null,
   "metadata": {
    "collapsed": true
   },
   "outputs": [],
   "source": []
  },
  {
   "cell_type": "code",
   "execution_count": null,
   "metadata": {
    "collapsed": true
   },
   "outputs": [],
   "source": []
  },
  {
   "cell_type": "code",
   "execution_count": null,
   "metadata": {
    "collapsed": true
   },
   "outputs": [],
   "source": []
  }
 ],
 "metadata": {
  "anaconda-cloud": {},
  "kernelspec": {
   "display_name": "Python [Root]",
   "language": "python",
   "name": "Python [Root]"
  },
  "language_info": {
   "codemirror_mode": {
    "name": "ipython",
    "version": 3
   },
   "file_extension": ".py",
   "mimetype": "text/x-python",
   "name": "python",
   "nbconvert_exporter": "python",
   "pygments_lexer": "ipython3",
   "version": "3.5.2"
  }
 },
 "nbformat": 4,
 "nbformat_minor": 0
}
