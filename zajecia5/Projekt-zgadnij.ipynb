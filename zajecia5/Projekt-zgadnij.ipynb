{
 "cells": [
  {
   "cell_type": "markdown",
   "metadata": {},
   "source": [
    "Stwórz grę, który generuje losowo liczbę między 1 a 100, i każe użytkownikowi zgadnąć podaną liczbę. Użytkownik ma 5 szans (\"żyć\") na zgadnięcie liczby."
   ]
  },
  {
   "cell_type": "code",
   "execution_count": null,
   "metadata": {
    "collapsed": true
   },
   "outputs": [],
   "source": [
    "# Użyj biblioteki random, by wygenerować losową liczbę między 1 a 100\n",
    "import random\n",
    "\n",
    "losowa = \n",
    "\n",
    "# Poproś użytkownika o podanie liczby\n",
    "liczba = input()\n",
    "\n",
    "# Dopóki liczba nie jest poprawna ORAZ dopóki użytkownik nie wykorzysta wszystkich żyć\n",
    "# poproś użytkownika o poprawną liczbę\n",
    "while liczba ...:\n",
    "    liczba = input()"
   ]
  }
 ],
 "metadata": {
  "anaconda-cloud": {},
  "kernelspec": {
   "display_name": "Python [Root]",
   "language": "python",
   "name": "Python [Root]"
  },
  "language_info": {
   "codemirror_mode": {
    "name": "ipython",
    "version": 3
   },
   "file_extension": ".py",
   "mimetype": "text/x-python",
   "name": "python",
   "nbconvert_exporter": "python",
   "pygments_lexer": "ipython3",
   "version": "3.5.2"
  }
 },
 "nbformat": 4,
 "nbformat_minor": 0
}
